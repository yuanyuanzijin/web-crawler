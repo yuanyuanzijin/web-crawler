{
 "cells": [
  {
   "cell_type": "code",
   "execution_count": 86,
   "metadata": {},
   "outputs": [
    {
     "name": "stdout",
     "output_type": "stream",
     "text": [
      "请粘贴视频网站地址：https://v.qq.com/x/cover/4xf4ni3vwii9kl1.html\n",
      "\n",
      "**************解析成功***************\n",
      "影片名称：建军大业\n",
      "\n",
      "————清晰度：SD\n",
      "第1部分\n",
      "大小：11.539534568786621MB\n",
      "播放地址：http://222.73.132.149/vipzj.video.tc.qq.com/AwA98_cOfmDJs1pF9EfA9UUbfPvN_8oFJeEyrcuXCCyg/p00246at0hr.p203.1.mp4?vkey=3568E8885F14AB44E9601240E697CC248B176118B83FBA6C35767372E93E716B641ADBC08514CFF587079ABC455D77B2A561DC8BEA7D34659F60E9F866491A40D1B8FC4D9D102343B8932786659D7C67D085DF3B780685B2E150B03C95AD20DDDC30AA11A16006C80C9830A01DE5EB80693E84F6D71272D3\n",
      "\n",
      "————清晰度：HD\n",
      "第1部分\n",
      "大小：27.310940742492676MB\n",
      "播放地址：http://114.80.149.153/vipzj.video.tc.qq.com/Aqg9Je5kL0OIlPf8-7EZ2VoNmWpcgmUsuawFR6uQGLmM/p00246at0hr.p212.1.mp4?vkey=609498C848795488A3C34E7678249EEC1058F92A806EE243BB3E31B9CE61EDDF70904338DB1A5A5DA1FA022900C6311612937840629F262FAC84DA32EA31DF2ED7965AFC3A3A0081939661647543F98AA2C951DA2A96A1A84B101A74E9C4A10FFD978DCE8F21AC5C50145121E520F6C4431D36B6A20B490E\n",
      "\n",
      "————清晰度：SUPERHD\n",
      "第1部分\n",
      "大小：47.49262619018555MB\n",
      "播放地址：http://222.73.132.151/vipzj.video.tc.qq.com/ANYlBqgHsKcmOJjrnew2p-kR7vTQTkXggYBvWcCeyu4o/p00246at0hr.p201.1.mp4?vkey=B617AF80568831AFC2DB978558952F45F68B37C9C9846643061407C61FB6C6FA4F990FB685F8FAA10BCFFC52CF11EEE8EE5DFB1FC60C33E349CCC720258EAFB5E9D3F6493F23B191B3F8F26408A849D9314057A8A81D75271CDEC3F55DAF623C114540DAAF8F6DEDBDF480B8AF5D22FDE85FC84A69232BE6\n",
      "\n",
      "————清晰度：HD\n",
      "第1部分\n",
      "大小：1284.6718072891235MB\n",
      "播放地址：http://222.73.132.151/vipzj.video.tc.qq.com/ANYlBqgHsKcmOJjrnew2p-kR7vTQTkXggYBvWcCeyu4o/p00246at0hr.mp4?vkey=8AFDD5D3C5564B2C30ADA1A83B80427332A78B5C4DFCD749228AE45056F29BE0773C1755FA88CE2D6028C2634E4737BD2595511B507B2F19BF2B4D0637B8FD276DD45F40E50C2E0BD8FEAB17463A2833F65C6FCE379E8314C1E3430224853BD41C36BCA0AA4F03D7467E4221BC14B98B11286E642EE43FE9\n"
     ]
    }
   ],
   "source": [
    "# python 3.6.0\n",
    "from html.parser import HTMLParser\n",
    "import urllib\n",
    "import requests\n",
    "import json\n",
    "from bs4 import BeautifulSoup\n",
    "\n",
    "#print(back)\n",
    "if back['code'] == 0:\n",
    "    list = back['data']['streams']\n",
    "    title = back['data']['title']\n",
    "    print('\\n**************解析成功***************')\n",
    "    print('影片名称：' + title)\n",
    "    for i in list:\n",
    "        print('\\n————清晰度：' + i['quality'])\n",
    "        for index, seg in enumerate(i['segs']):\n",
    "            print('第%d部分' % (index+1))\n",
    "            print('大小：' + str(seg['size']/1024/1024) + 'MB')\n",
    "            print('播放地址：'+ seg['url'])\n",
    "            \n",
    "else:\n",
    "    print('解析失败')\n"
   ]
  }
 ],
 "metadata": {
  "kernelspec": {
   "display_name": "Python 3",
   "language": "python",
   "name": "python3"
  },
  "language_info": {
   "codemirror_mode": {
    "name": "ipython",
    "version": 3
   },
   "file_extension": ".py",
   "mimetype": "text/x-python",
   "name": "python",
   "nbconvert_exporter": "python",
   "pygments_lexer": "ipython3",
   "version": "3.6.1"
  }
 },
 "nbformat": 4,
 "nbformat_minor": 2
}
