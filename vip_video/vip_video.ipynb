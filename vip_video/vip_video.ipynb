{
 "cells": [
  {
   "cell_type": "code",
   "execution_count": null,
   "metadata": {},
   "outputs": [],
   "source": [
    "# python 3.6.0\n",
    "from html.parser import HTMLParser\n",
    "import urllib\n",
    "import requests\n",
    "import json\n",
    "from bs4 import BeautifulSoup\n",
    "\n",
    "videourl = input('请粘贴视频网站地址：')\n",
    "req = urllib.request.urlopen('http://api.v2.flvurl.cn/parse/?type=vod&sel-type=MP4&url='+videourl)\n",
    "back = json.loads(req.read())\n",
    "#print(back)\n",
    "if back['code'] == 0:\n",
    "    list = back['data']['streams']\n",
    "    title = back['data']['title']\n",
    "    print('\\n**************解析成功***************')\n",
    "    print('影片名称：' + title)\n",
    "    for i in list:\n",
    "        print('\\n————清晰度：' + i['quality'])\n",
    "        for index, seg in enumerate(i['segs']):\n",
    "            print('第%d部分' % (index+1))\n",
    "            print('大小：' + str(seg['size']/1024/1024) + 'MB')\n",
    "            print('播放地址：'+ seg['url'])\n",
    "            \n",
    "else:\n",
    "    print('解析失败')\n"
   ]
  }
 ],
 "metadata": {
  "kernelspec": {
   "display_name": "Python 3",
   "language": "python",
   "name": "python3"
  },
  "language_info": {
   "codemirror_mode": {
    "name": "ipython",
    "version": 3
   },
   "file_extension": ".py",
   "mimetype": "text/x-python",
   "name": "python",
   "nbconvert_exporter": "python",
   "pygments_lexer": "ipython3",
   "version": "3.6.1"
  }
 },
 "nbformat": 4,
 "nbformat_minor": 2
}
