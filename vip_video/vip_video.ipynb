{
 "cells": [
  {
   "cell_type": "code",
   "execution_count": 6,
   "metadata": {},
   "outputs": [
    {
     "name": "stdout",
     "output_type": "stream",
     "text": [
      "请粘贴视频网站地址：https://v.qq.com/x/cover/ldl8jqkvepk3t6a.html\n",
      "\n",
      "**************解析成功***************\n",
      "影片名称：视频解析过期提醒。\n",
      "\n",
      "————清晰度：SPEED\n",
      "第1部分\n",
      "大小：0.6410255432128906MB\n",
      "播放地址：https://k.youku.com/player/getFlvPath/sid/0508583740061122c3305/st/mp4/fileid/030020010058FEFF9FE59844539AAAAA7B807A-6BEE-8833-A8E4-6FB72B3688F3?k=2ec7400e2e7b1e6524132ec1&hd=1&myp=0&ts=56&ctype=12&ev=1&token=0509&oip=1992174503&ep=cieUEkyFVckE5SPZiT8bZX%2Fhd3cKXP4J9h%2BHgdJjALshQJ7K70jYsei1R%2FdGEvwae1N3YZqArKLv%0AakdlYfYx3B0Q10arOvqR9oXn5asltpcCFBowesWht1SeRjD4&ccode=0501&duration=56&expire=18000&psid=aeb439b237176408addc845ea6f660b7&ups_client_netip=118.190.43.167&ups_ts=1508583740&ups_userid=&utid=OxdyErjx43UCAXa%2BK6evj1kz&vid=XMjcyNzk0MzQ0NA%3D%3D&vkey=A55389a6933c63802c21e92351b4e2d16\n"
     ]
    }
   ],
   "source": [
    "# python 3.6.0\n",
    "from html.parser import HTMLParser\n",
    "import urllib\n",
    "import json\n",
    "\n",
    "videourl = input('请粘贴视频网站地址：')\n",
    "req = urllib.request.urlopen('http://api.v2.flvurl.cn/parse/?type=vod&sel-type=MP4&url='+videourl)\n",
    "back = json.loads(req.read())\n",
    "#print(back)\n",
    "if back['code'] == 0:\n",
    "    list = back['data']['streams']\n",
    "    title = back['data']['title']\n",
    "    print('\\n**************解析成功***************')\n",
    "    print('影片名称：' + title)\n",
    "    for i in list:\n",
    "        print('\\n————清晰度：' + i['quality'])\n",
    "        for index, seg in enumerate(i['segs']):\n",
    "            print('第%d部分' % (index+1))\n",
    "            print('大小：' + str(seg['size']/1024/1024) + 'MB')\n",
    "            print('播放地址：'+ seg['url'])\n",
    "            \n",
    "else:\n",
    "    print('解析失败')\n"
   ]
  }
 ],
 "metadata": {
  "kernelspec": {
   "display_name": "Python 3",
   "language": "python",
   "name": "python3"
  },
  "language_info": {
   "codemirror_mode": {
    "name": "ipython",
    "version": 3
   },
   "file_extension": ".py",
   "mimetype": "text/x-python",
   "name": "python",
   "nbconvert_exporter": "python",
   "pygments_lexer": "ipython3",
   "version": "3.6.0"
  }
 },
 "nbformat": 4,
 "nbformat_minor": 2
}
