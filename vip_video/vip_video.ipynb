{
 "cells": [
  {
   "cell_type": "code",
   "execution_count": 86,
   "metadata": {},
   "outputs": [
    {
     "name": "stdout",
     "output_type": "stream",
     "text": [
      "请粘贴视频网站地址：https://v.qq.com/x/cover/4xf4ni3vwii9kl1.html\n",
      "\n",
      "**************解析成功***************\n",
      "影片名称：建军大业\n",
      "\n",
      "————清晰度：SD\n",
      "第1部分\n",
      "大小：11.539534568786621MB\n",
      "播放地址：http://222.73.132.149/vipzj.video.tc.qq.com/AwA98_cOfmDJs1pF9EfA9UUbfPvN_8oFJeEyrcuXCCyg/p00246at0hr.p203.1.mp4?vkey=3568E8885F14AB44E9601240E697CC248B176118B83FBA6C35767372E93E716B641ADBC08514CFF587079ABC455D77B2A561DC8BEA7D34659F60E9F866491A40D1B8FC4D9D102343B8932786659D7C67D085DF3B780685B2E150B03C95AD20DDDC30AA11A16006C80C9830A01DE5EB80693E84F6D71272D3\n",
      "\n",
      "————清晰度：HD\n",
      "第1部分\n",
      "大小：27.310940742492676MB\n",
      "播放地址：http://114.80.149.153/vipzj.video.tc.qq.com/Aqg9Je5kL0OIlPf8-7EZ2VoNmWpcgmUsuawFR6uQGLmM/p00246at0hr.p212.1.mp4?vkey=609498C848795488A3C34E7678249EEC1058F92A806EE243BB3E31B9CE61EDDF70904338DB1A5A5DA1FA022900C6311612937840629F262FAC84DA32EA31DF2ED7965AFC3A3A0081939661647543F98AA2C951DA2A96A1A84B101A74E9C4A10FFD978DCE8F21AC5C50145121E520F6C4431D36B6A20B490E\n",
      "\n",
      "————清晰度：SUPERHD\n",
      "第1部分\n",
      "大小：47.49262619018555MB\n",
      "播放地址：http://222.73.132.151/vipzj.video.tc.qq.com/ANYlBqgHsKcmOJjrnew2p-kR7vTQTkXggYBvWcCeyu4o/p00246at0hr.p201.1.mp4?vkey=B617AF80568831AFC2DB978558952F45F68B37C9C9846643061407C61FB6C6FA4F990FB685F8FAA10BCFFC52CF11EEE8EE5DFB1FC60C33E349CCC720258EAFB5E9D3F6493F23B191B3F8F26408A849D9314057A8A81D75271CDEC3F55DAF623C114540DAAF8F6DEDBDF480B8AF5D22FDE85FC84A69232BE6\n",
      "\n",
      "————清晰度：HD\n",
      "第1部分\n",
      "大小：1284.6718072891235MB\n",
      "播放地址：http://222.73.132.151/vipzj.video.tc.qq.com/ANYlBqgHsKcmOJjrnew2p-kR7vTQTkXggYBvWcCeyu4o/p00246at0hr.mp4?vkey=8AFDD5D3C5564B2C30ADA1A83B80427332A78B5C4DFCD749228AE45056F29BE0773C1755FA88CE2D6028C2634E4737BD2595511B507B2F19BF2B4D0637B8FD276DD45F40E50C2E0BD8FEAB17463A2833F65C6FCE379E8314C1E3430224853BD41C36BCA0AA4F03D7467E4221BC14B98B11286E642EE43FE9\n"
     ]
    }
   ],
   "source": [
    "# python 3.6.0\n",
    "from html.parser import HTMLParser\n",
    "import urllib\n",
    "import requests\n",
    "import json\n",
    "from bs4 import BeautifulSoup\n",
    "\n",
    "videourl = input('请粘贴视频网站地址：')\n",
    "req = urllib.request.urlopen('http://api.v2.flvurl.cn/parse/?type=vod&sel-type=MP4&url='+videourl)\n",
    "back = json.loads(req.read())\n",
    "#print(back)\n",
    "if back['code'] == 0:\n",
    "    list = back['data']['streams']\n",
    "    title = back['data']['title']\n",
    "    print('\\n**************解析成功***************')\n",
    "    print('影片名称：' + title)\n",
    "    for i in list:\n",
    "        print('\\n————清晰度：' + i['quality'])\n",
    "        for index, seg in enumerate(i['segs']):\n",
    "            print('第%d部分' % (index+1))\n",
    "            print('大小：' + str(seg['size']/1024/1024) + 'MB')\n",
    "            print('播放地址：'+ seg['url'])\n",
    "            \n",
    "else:\n",
    "    print('解析失败')\n"
   ]
  },
  {
   "cell_type": "code",
   "execution_count": 77,
   "metadata": {},
   "outputs": [
    {
     "name": "stdout",
     "output_type": "stream",
     "text": [
      "{'code': 0, 'message': 'success', 'cost': 0.422, 'type': 'vod', 'data': {'title': '视频解析过期提醒。', 'duration': 56, 'streams': [{'type': 'MP4', 'quality': 'SD', 'segs': [{'duration': 56.2, 'size': 672164, 'url': 'http://k.youku.com/player/getFlvPath/sid/050694967587612d140ce/st/mp4/fileid/030020010058FEFF9FE59844539AAAAA7B807A-6BEE-8833-A8E4-6FB72B3688F3?k=1580ca2c04de33ca282cb603&hd=1&myp=0&ts=56&ctype=12&ev=1&token=0534&oip=1992174503&ep=cieUHECJX8gH4CvYjj8bMy3mdCRaXP4J9h%2BHgdJjALshQJ7K70jYsei1R%2FdGEvwae1N3YZqArKLv%0AakdlYfYx3B0Q10arOvqR9oXn5asltpcCFBowesWht1SeRjP1&ccode=0501&duration=56&expire=18000&psid=2b2fbc5ee36810ce8b1d96a3e665d426&ups_client_netip=118.190.43.167&ups_ts=1506949675&ups_userid=&utid=KyhZEm2dXCsCAXa%2BK6ckFaVV&vid=XMjcyNzk0MzQ0NA%3D%3D&vkey=A2b4224717963472297555b345b6fdbae'}]}]}}\n"
     ]
    }
   ],
   "source": [
    "print(back)"
   ]
  },
  {
   "cell_type": "code",
   "execution_count": 39,
   "metadata": {},
   "outputs": [
    {
     "name": "stdout",
     "output_type": "stream",
     "text": [
      "[{'type': 'MP4', 'quality': 'HD', 'segs': [{'duration': 391.16, 'size': 31972922, 'url': 'http://vali-dns.cp31.ott.cibntv.net/6773C3424264B71D8A897616D/030008070059A4B5BBE07B011BA6A936CBCC5D-E0D2-C762-9D4F-CCE3A6A2EB0B.mp4?ccode=0401&duration=391&expire=18000&psid=274e88586808a1d6c35fda6a05565dab&ups_client_netip=118.190.44.248&ups_ts=1506947916&ups_userid=&utid=SyFZEsMLWE4CAXa%2BLPiMh8u1&vid=XMjk5NTgyMzQ0MA%3D%3D&vkey=Af482f11f5253cc5e8bc2f240dabbbf37'}, {'duration': 390.399, 'size': 32953996, 'url': 'http://vali-dns.cp31.ott.cibntv.net/657322B74BD38715F4CDF215B/030008070159A4B5BBE07B011BA6A936CBCC5D-E0D2-C762-9D4F-CCE3A6A2EB0B.mp4?ccode=0401&duration=390&expire=18000&psid=274e88586808a1d6c35fda6a05565dab&ups_client_netip=118.190.44.248&ups_ts=1506947916&ups_userid=&utid=SyFZEsMLWE4CAXa%2BLPiMh8u1&vid=XMjk5NTgyMzQ0MA%3D%3D&vkey=A0a9bc95f89d7da6fa3fe5553beed257e'}, {'duration': 391, 'size': 28940705, 'url': 'http://vali-dns.cp31.ott.cibntv.net/6573C34257D327138FA032945/030008070259A4B5BBE07B011BA6A936CBCC5D-E0D2-C762-9D4F-CCE3A6A2EB0B.mp4?ccode=0401&duration=391&expire=18000&psid=274e88586808a1d6c35fda6a05565dab&ups_client_netip=118.190.44.248&ups_ts=1506947916&ups_userid=&utid=SyFZEsMLWE4CAXa%2BLPiMh8u1&vid=XMjk5NTgyMzQ0MA%3D%3D&vkey=Ac4da7b9818923a6c4642425ea4d47673'}, {'duration': 388.28, 'size': 27649598, 'url': 'http://vali-dns.cp31.ott.cibntv.net/657463CDCCE3C7178D9716569/030008070359A4B5BBE07B011BA6A936CBCC5D-E0D2-C762-9D4F-CCE3A6A2EB0B.mp4?ccode=0401&duration=388&expire=18000&psid=274e88586808a1d6c35fda6a05565dab&ups_client_netip=118.190.44.248&ups_ts=1506947916&ups_userid=&utid=SyFZEsMLWE4CAXa%2BLPiMh8u1&vid=XMjk5NTgyMzQ0MA%3D%3D&vkey=A47b5fbf29187d3f9a46f90bae80ade25'}, {'duration': 393, 'size': 27361628, 'url': 'http://vali-dns.cp31.ott.cibntv.net/657504588BF4D71E56EE03C8B/030008070459A4B5BBE07B011BA6A936CBCC5D-E0D2-C762-9D4F-CCE3A6A2EB0B.mp4?ccode=0401&duration=393&expire=18000&psid=274e88586808a1d6c35fda6a05565dab&ups_client_netip=118.190.44.248&ups_ts=1506947916&ups_userid=&utid=SyFZEsMLWE4CAXa%2BLPiMh8u1&vid=XMjk5NTgyMzQ0MA%3D%3D&vkey=Ab385d6d510bd60b45ebb6e8dc7405f21'}, {'duration': 386.839, 'size': 26115661, 'url': 'http://vali-dns.cp31.ott.cibntv.net/6978270F47C3C7178D9712AE3/030008070559A4B5BBE07B011BA6A936CBCC5D-E0D2-C762-9D4F-CCE3A6A2EB0B.mp4?ccode=0401&duration=386&expire=18000&psid=274e88586808a1d6c35fda6a05565dab&ups_client_netip=118.190.44.248&ups_ts=1506947916&ups_userid=&utid=SyFZEsMLWE4CAXa%2BLPiMh8u1&vid=XMjk5NTgyMzQ0MA%3D%3D&vkey=A286b8629515dee98c3ce4230378b50e1'}, {'duration': 222.84, 'size': 14299872, 'url': 'http://vali-dns.cp31.ott.cibntv.net/6978C79AF4435714C23713889/030008070659A4B5BBE07B011BA6A936CBCC5D-E0D2-C762-9D4F-CCE3A6A2EB0B.mp4?ccode=0401&duration=222&expire=18000&psid=274e88586808a1d6c35fda6a05565dab&ups_client_netip=118.190.44.248&ups_ts=1506947916&ups_userid=&utid=SyFZEsMLWE4CAXa%2BLPiMh8u1&vid=XMjk5NTgyMzQ0MA%3D%3D&vkey=A78cce6690b6338770adeefd324917bd5'}]}, {'type': 'MP4', 'quality': 'SD', 'segs': [{'duration': 300, 'size': 11589448, 'url': 'http://vali-dns.cp31.ott.cibntv.net/677380A6748347145C04C3972/030020070059A4B5BAE07B011BA6A9F92EF1A8-D3C9-911C-9235-F627AE4FA196.mp4?ccode=0501&duration=391&expire=18000&psid=17e856a58d0af36258619638bc66e1af&ups_client_netip=118.190.44.248&ups_ts=1506947916&ups_userid=&utid=SyFZEsMLWE4CAXa%2BLPiMh8u1&vid=XMjk5NTgyMzQ0MA%3D%3D&vkey=A54dc42e8797a204fb8a26109326b4c63'}]}]\n"
     ]
    }
   ],
   "source": [
    "http://v.youku.com/v_show/id_XMjk5NTgyMzQ0MA==.html?spm=a2h03.8164468.2069780.5"
   ]
  }
 ],
 "metadata": {
  "kernelspec": {
   "display_name": "Python 3",
   "language": "python",
   "name": "python3"
  },
  "language_info": {
   "codemirror_mode": {
    "name": "ipython",
    "version": 3
   },
   "file_extension": ".py",
   "mimetype": "text/x-python",
   "name": "python",
   "nbconvert_exporter": "python",
   "pygments_lexer": "ipython3",
   "version": "3.6.0"
  }
 },
 "nbformat": 4,
 "nbformat_minor": 2
}
