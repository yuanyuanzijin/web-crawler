{
 "cells": [
  {
   "cell_type": "code",
   "execution_count": null,
   "metadata": {},
   "outputs": [
    {
     "name": "stdout",
     "output_type": "stream",
     "text": [
      "请指定图片下载保存名称（英文）：orange\n",
      "请粘贴千库网网址(例如：http://588ku.com/sucai/0-default-0-0-18030-)http://588ku.com/sucai/0-default-0-0-chengzi-\n",
      "请输入要爬取的页数：142\n"
     ]
    },
    {
     "name": "stderr",
     "output_type": "stream",
     "text": [
      "Some characters could not be decoded, and were replaced with REPLACEMENT CHARACTER.\n"
     ]
    },
    {
     "name": "stdout",
     "output_type": "stream",
     "text": [
      "下载完成第1张图片:http://bpic.588ku.com/element_pic/00/03/10/135688880d4001f.jpg\n",
      "下载完成第2张图片:http://bpic.588ku.com/element_pic/00/16/04/14570f7094684d6.jpg\n",
      "下载完成第3张图片:http://bpic.588ku.com/element_pic/00/16/09/1957dfa42bb78f7.jpg\n",
      "下载完成第4张图片:http://bpic.588ku.com/element_pic/00/00/00/00569399965ed15.jpg\n",
      "下载完成第5张图片:http://bpic.588ku.com/element_pic/16/06/02/11574fac30bbe8a.jpg\n",
      "下载完成第6张图片:http://bpic.588ku.com/element_pic/00/00/00/0056a48ef610b54.jpg\n",
      "下载完成第7张图片:http://bpic.588ku.com/element_pic/00/16/04/14570f704bca911.jpg\n",
      "下载完成第8张图片:http://bpic.588ku.com/element_pic/16/06/06/1257550289a1b20.jpg\n",
      "下载完成第9张图片:http://bpic.588ku.com/element_pic/00/04/41/83568c938be7cd9.jpg\n",
      "下载完成第10张图片:http://bpic.588ku.com/element_pic/00/16/06/1557616a434b9a8.jpg\n",
      "下载图片失败:http://bpic.588ku.com/element_pic/00/00/00/005697cdf2d554d.jpg\n",
      "timed out\n",
      "下载完成第11张图片:http://bpic.588ku.com/element_pic/12/03/20/1656e3bb9624602.jpg\n",
      "下载完成第12张图片:http://bpic.588ku.com/element_pic/00/16/06/12575d75cecb591.jpg\n",
      "下载完成第13张图片:http://bpic.588ku.com/element_pic/10/04/20/16570a066c774b3.jpg\n",
      "下载完成第14张图片:http://bpic.588ku.com/element_pic/16/06/06/105754db675a267.jpg\n",
      "下载完成第15张图片:http://bpic.588ku.com/element_pic/00/16/06/24576ccab7bd32b.jpg\n",
      "下载完成第16张图片:http://bpic.588ku.com/element_pic/00/16/05/145735fc5e060c0.jpg\n",
      "下载完成第17张图片:http://bpic.588ku.com/element_pic/00/16/07/155788f19a17b34.jpg\n",
      "下载完成第18张图片:http://bpic.588ku.com/element_pic/00/16/09/1457d8eb6810d6a.jpg\n",
      "下载完成第19张图片:http://bpic.588ku.com/element_pic/00/16/04/14570f7068935fb.jpg\n",
      "下载完成第20张图片:http://bpic.588ku.com/element_pic/16/05/26/005745d1f3eebd9.jpg\n",
      "下载完成第21张图片:http://bpic.588ku.com/element_pic/00/16/09/1557da53428513d.jpg\n",
      "下载完成第22张图片:http://bpic.588ku.com/element_pic/17/02/06/b5cac72da273af8ceedffc40750d3f44.jpg\n",
      "下载完成第23张图片:http://bpic.588ku.com/element_pic/00/16/08/2657bf3f9cee865.jpg\n",
      "下载完成第24张图片:http://bpic.588ku.com/element_pic/16/11/26/0f395d8c76a39d82f8d53b87d800e95b.jpg\n",
      "下载完成第25张图片:http://bpic.588ku.com/element_pic/00/16/10/1357ff153bebc5f.jpg\n",
      "下载完成第26张图片:http://bpic.588ku.com/element_pic/16/05/17/005739f0f9bc808.jpg\n",
      "下载完成第27张图片:http://bpic.588ku.com/element_pic/00/16/08/0657a4d6a4815aa.jpg\n",
      "下载完成第28张图片:http://bpic.588ku.com/element_pic/17/03/04/6799586ee979163a972dc7e1e917ee0e.jpg\n",
      "下载完成第29张图片:http://bpic.588ku.com/element_pic/00/00/00/005690c6d120f11.jpg\n",
      "下载完成第30张图片:http://bpic.588ku.com/element_pic/16/10/23/32dac2801530341c7cfa9e4f7b63ca3d.jpg\n",
      "下载完成第31张图片:http://bpic.588ku.com/element_pic/16/11/01/099ef66329a65f9f5e49e77533c14dec.jpg\n",
      "下载完成第32张图片:http://bpic.588ku.com/element_pic/17/02/23/1cbd073b72ad251f5e2cc2ef1f9b0d8b.jpg\n",
      "下载完成第33张图片:http://bpic.588ku.com/element_pic/00/16/06/0857582f9bb9297.jpg\n",
      "下载完成第34张图片:http://bpic.588ku.com/element_pic/00/16/09/0457cbd7aac651c.jpg\n",
      "下载完成第35张图片:http://bpic.588ku.com/element_pic/00/16/09/1957df66e9e08f2.jpg\n",
      "下载完成第36张图片:http://bpic.588ku.com/element_pic/17/01/07/f5169381a66ac295fb635ecc2ee5a3f5.jpg\n",
      "下载完成第37张图片:http://bpic.588ku.com/element_pic/00/16/08/1657b31b3d28210.jpg\n",
      "下载完成第38张图片:http://bpic.588ku.com/element_pic/17/07/09/c10852c475be08c15037b21e1aff3541.jpg\n",
      "下载完成第39张图片:http://bpic.588ku.com/element_pic/16/11/17/d503ec66fd146496e7627c07d3dcb52e.jpg\n",
      "下载完成第40张图片:http://bpic.588ku.com/element_pic/17/03/06/cdb8b34e3e7e7baf76403501a504c98b.jpg\n",
      "下载完成第41张图片:http://bpic.588ku.com/element_pic/16/12/03/c2cfad50fa64c927d6005b2d5b15ae44.jpg\n",
      "下载完成第42张图片:http://bpic.588ku.com/element_pic/00/03/49/57568ba6a8769e9.jpg\n",
      "下载完成第43张图片:http://bpic.588ku.com/element_pic/00/16/07/20578f9bea19cd9.jpg\n",
      "下载完成第44张图片:http://bpic.588ku.com/element_pic/00/16/08/2657bf407139ea5.jpg\n",
      "第1页下载完毕\n",
      "下载完成第45张图片:http://bpic.588ku.com/element_pic/00/16/10/0157eea096682ca.jpg\n",
      "下载完成第46张图片:http://bpic.588ku.com/element_pic/00/00/00/00569ede7fc1ebb.jpg\n",
      "下载完成第47张图片:http://bpic.588ku.com/element_pic/16/05/18/00573b45851f150.jpg\n",
      "下载完成第48张图片:http://bpic.588ku.com/element_pic/16/05/27/00574723f0461b9.jpg\n",
      "下载完成第49张图片:http://bpic.588ku.com/element_pic/00/00/00/00569e5363a57d5.jpg\n",
      "下载完成第50张图片:http://bpic.588ku.com/element_pic/00/16/06/075756c2b6d3e7a.jpg\n"
     ]
    }
   ],
   "source": [
    "# python 3.6.1\n",
    "import urllib\n",
    "import requests\n",
    "from bs4 import BeautifulSoup\n",
    "from html.parser import HTMLParser\n",
    "import socket\n",
    "import os\n",
    "socket.setdefaulttimeout(5.0)\n",
    "\n",
    "foldername = input('请指定图片下载保存名称（英文）：')\n",
    "if not os.path.exists('download/' + foldername):  # 新建文件夹\n",
    "    os.mkdir('download/' + foldername)\n",
    "\n",
    "weburl = input('请粘贴千库网网址(例如：http://588ku.com/sucai/0-default-0-0-18030-)')\n",
    "    \n",
    "pagenum = int(input('请输入要爬取的页数：'))\n",
    "x = 1\n",
    "\n",
    "for page in range(pagenum):\n",
    "    y = page+1\n",
    "    req = urllib.request.urlopen(weburl + str(y))\n",
    "    soup = BeautifulSoup(req.read(),'html.parser')\n",
    "    strawberries = soup.select('.picture-list img')\n",
    "    for i in strawberries:\n",
    "        img_url = i['data-original']\n",
    "        try:\n",
    "            filepath = os.path.join('download', foldername, foldername+'%s.jpg' % x)\n",
    "            urllib.request.urlretrieve(img_url, filepath)\n",
    "            print(\"下载完成第%d张图片:%s\" % (x,img_url))\n",
    "            x += 1\n",
    "        except Exception as e:\n",
    "            print(\"下载图片失败:%s\" % (img_url))\n",
    "            print(e)\n",
    "    \n",
    "\n",
    "    print('第%d页下载完毕' % int(y))\n"
   ]
  }
 ],
 "metadata": {
  "kernelspec": {
   "display_name": "Python 3",
   "language": "python",
   "name": "python3"
  },
  "language_info": {
   "codemirror_mode": {
    "name": "ipython",
    "version": 3
   },
   "file_extension": ".py",
   "mimetype": "text/x-python",
   "name": "python",
   "nbconvert_exporter": "python",
   "pygments_lexer": "ipython3",
   "version": "3.6.1"
  }
 },
 "nbformat": 4,
 "nbformat_minor": 2
}
