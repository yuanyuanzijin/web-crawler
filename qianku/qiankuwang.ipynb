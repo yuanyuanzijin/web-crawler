{
 "cells": [
  {
   "cell_type": "code",
   "execution_count": null,
   "metadata": {
    "collapsed": true
   },
   "outputs": [],
   "source": [
    "# python 3.6.1\n",
    "import urllib\n",
    "import requests\n",
    "from bs4 import BeautifulSoup\n",
    "from html.parser import HTMLParser\n",
    "import socket\n",
    "import os\n",
    "socket.setdefaulttimeout(5.0)\n",
    "\n",
    "foldername = input('请指定图片下载保存名称（英文）：')\n",
    "if not os.path.exists('download/' + foldername):  # 新建文件夹\n",
    "    os.mkdir('download/' + foldername)\n",
    "\n",
    "weburl = input('请粘贴千库网网址(例如：http://588ku.com/sucai/0-default-0-0-18030-)')\n",
    "    \n",
    "pagenum = int(input('请输入要爬取的页数：'))\n",
    "x = 1\n",
    "\n",
    "for page in range(pagenum):\n",
    "    y = page+1\n",
    "    req = urllib.request.urlopen(weburl + str(y))\n",
    "    soup = BeautifulSoup(req.read(),'html.parser')\n",
    "    strawberries = soup.select('.picture-list img')\n",
    "    for i in strawberries:\n",
    "        img_url = i['data-original']\n",
    "        try:\n",
    "            filepath = os.path.join('download', foldername, foldername+'%s.jpg' % x)\n",
    "            urllib.request.urlretrieve(img_url, filepath)\n",
    "            print(\"下载完成第%d张图片:%s\" % (x,img_url))\n",
    "            x += 1\n",
    "        except Exception as e:\n",
    "            print(\"下载图片失败:%s\" % (img_url))\n",
    "            print(e)\n",
    "    \n",
    "\n",
    "    print('第%d页下载完毕' % int(y))\n"
   ]
  }
 ],
 "metadata": {
  "kernelspec": {
   "display_name": "Python 3",
   "language": "python",
   "name": "python3"
  },
  "language_info": {
   "codemirror_mode": {
    "name": "ipython",
    "version": 3
   },
   "file_extension": ".py",
   "mimetype": "text/x-python",
   "name": "python",
   "nbconvert_exporter": "python",
   "pygments_lexer": "ipython3",
   "version": "3.6.0"
  }
 },
 "nbformat": 4,
 "nbformat_minor": 2
}
